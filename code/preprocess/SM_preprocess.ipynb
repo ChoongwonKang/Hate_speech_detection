{
 "cells": [
  {
   "cell_type": "code",
   "execution_count": null,
   "metadata": {},
   "outputs": [],
   "source": [
    "import pandas as pd\n",
    "import os\n",
    "import re\n",
    "from tqdm import tqdm\n",
    "tqdm.pandas()"
   ]
  },
  {
   "cell_type": "code",
   "execution_count": null,
   "metadata": {},
   "outputs": [],
   "source": [
    "df = pd.read_csv('annotations_metadata.csv')\n",
    "\n",
    "# Data collection - read text files\n",
    "text_files_dir = 'all_files'\n",
    "texts = []\n",
    "for file_id in df['file_id']:\n",
    "    file_path = os.path.join(text_files_dir, f\"{file_id}.txt\")\n",
    "    text_content = None\n",
    "    try:\n",
    "        with open(file_path, 'r', encoding='utf-8-sig') as file:\n",
    "            text_content = file.read()\n",
    "    except Exception as e:\n",
    "        print(f\"Error reading file {file_id}: {e}\")\n",
    "    texts.append(text_content)\n",
    "\n",
    "df_with_text = df.copy()\n",
    "df_with_text['text'] = texts\n",
    "\n",
    "df_with_text.to_csv('supremacist_raw.csv', index=False, encoding='utf-8-sig')"
   ]
  },
  {
   "cell_type": "code",
   "execution_count": null,
   "metadata": {},
   "outputs": [],
   "source": [
    "def preprocess_text(text):\n",
    "    text = re.sub(r'http\\S+', '', text)\n",
    "    text = re.sub(r'(?<!\\.)\\.{3,}(?!\\.)', '', text) \n",
    "    text = re.sub(r'[^\\w\\s]', '', text) \n",
    "    text = re.sub(r'\\b\\d+(\\.\\d+)?', '', text) \n",
    "    text = re.sub(r'\\b\\d+(\\.\\d+)?', '', text) \n",
    "    text = re.sub(r'\\d+', '', text) \n",
    "    text = re.sub(r'_', '', text) \n",
    "    text = re.sub(r'[^\\x00-\\x7F]+', '', text)\n",
    "    text = re.sub(r'http', '', text)\n",
    "    text = re.sub(r'https', '', text)\n",
    "    text = re.sub(r'nt', '', text)\n",
    "    text = re.sub(r'mkr', '', text)\n",
    "    text = re.sub(r've', '', text)\n",
    "    text = re.sub(r'don', '', text)\n",
    "    text = re.sub(r'kat', '', text)\n",
    "    text = re.sub(r'kabir', '', text)\n",
    "    text = re.sub(r'singh', '', text)\n",
    "    text = re.sub(r'bhai', '', text)\n",
    "    #text = re.sub(r'th', '', text)\n",
    "    text = text.lower()\n",
    "    text = re.sub(r'\\s+', ' ', text)\n",
    "    text = text.strip()\n",
    "    \n",
    "    return text"
   ]
  },
  {
   "cell_type": "code",
   "execution_count": null,
   "metadata": {},
   "outputs": [],
   "source": [
    "df = pd.read_csv('supremacist_raw.csv')\n",
    "df = df.drop(columns=['file_id', 'user_id', 'subforum_id', 'num_contexts'])\n",
    "\n",
    "df1 = df[df['label'] == 'noHate']\n",
    "df2 = df[df['label'] == 'hate']\n",
    "data = pd.concat([df1, df2])\n",
    "data['prepro'] = data['text'].progress_apply(preprocess_text)\n",
    "data['prepro'] = data['prepro'].apply(lambda x: str(x) if pd.notnull(x) else '')\n",
    "data = data[data['prepro'].apply(lambda x: len(x.split()) > 3)]\n",
    "data['encoding'] = data['label'].apply(lambda x: 1 if x == 'hate' else 0)\n",
    "data = data.drop(columns=['text', 'label'])\n",
    "data = data.sample(frac=1, random_state=42)\n",
    "\n",
    "data.to_csv('supremacist_input.csv', index=False, encoding='utf-8-sig')"
   ]
  }
 ],
 "metadata": {
  "kernelspec": {
   "display_name": "base",
   "language": "python",
   "name": "python3"
  },
  "language_info": {
   "name": "python",
   "version": "3.11.5"
  }
 },
 "nbformat": 4,
 "nbformat_minor": 2
}
