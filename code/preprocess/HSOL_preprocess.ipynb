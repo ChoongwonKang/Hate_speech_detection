{
 "cells": [
  {
   "cell_type": "code",
   "execution_count": null,
   "metadata": {},
   "outputs": [],
   "source": [
    "import pandas as pd\n",
    "import os\n",
    "import re\n",
    "from tqdm import tqdm\n",
    "tqdm.pandas()"
   ]
  },
  {
   "cell_type": "code",
   "execution_count": null,
   "metadata": {},
   "outputs": [],
   "source": [
    "df= pd.read_csv('Davidson_rawdata.csv')\n",
    "\n",
    "def prepro(text):\n",
    "    text = re.sub(r'^.*?:','',text)\n",
    "    text = re.sub(r'@\\S+', '',text)\n",
    "    text = re.sub(r'http\\S+', '', text)\n",
    "    text = re.sub(r'[^\\x00-\\x7F]+', '', text)\n",
    "    text = re.sub(r'[^\\w\\s]', '', text)\n",
    "    text = re.sub(r'(?<!\\.)\\.{3,}(?!\\.)', '', text)\n",
    "    text = re.sub(r'\\b\\d+(\\.\\d+)?', '', text) \n",
    "    text = re.sub(r'\\d+', '', text) \n",
    "    text = re.sub(r'_', '', text)\n",
    "    text = re.sub(r'http', '', text)\n",
    "    text = re.sub(r'https', '', text)\n",
    "    #text = re.sub(r'nt', '', text)\n",
    "    text = re.sub(r'rt', '', text)\n",
    "    text = re.sub(r'mkr', '', text)\n",
    "    text = re.sub(r'kat', '', text)\n",
    "    text = re.sub(r'kabir', '', text)\n",
    "    text = re.sub(r'singh', '', text)\n",
    "    text = re.sub(r'bhai', '', text)\n",
    "    text = re.sub(r'\\s+', ' ', text)\n",
    "    text = text.lower()\n",
    "\n",
    "    return text"
   ]
  },
  {
   "cell_type": "code",
   "execution_count": null,
   "metadata": {},
   "outputs": [],
   "source": [
    "df['prepro'] = df['tweet'].progress_apply(prepro)\n",
    "df['prepro'] = df['prepro'].apply(lambda x: str(x) if pd.notnull(x) else '')\n",
    "df = df[df['prepro'].apply(lambda x: len(x.split()) > 3)]\n",
    "df['encoding'] = df['class']\n",
    "df = df.drop(columns=['Unnamed: 0', 'count', 'hate_speech', 'offensive_language', 'neither', 'tweet', 'class'])\n",
    "\n",
    "df.to_csv('Davidson_input.csv', index=False, encoding='utf-8-sig')"
   ]
  }
 ],
 "metadata": {
  "kernelspec": {
   "display_name": "base",
   "language": "python",
   "name": "python3"
  },
  "language_info": {
   "name": "python",
   "version": "3.11.5"
  }
 },
 "nbformat": 4,
 "nbformat_minor": 2
}
