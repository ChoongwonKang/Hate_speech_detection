{
 "cells": [
  {
   "cell_type": "code",
   "execution_count": null,
   "metadata": {},
   "outputs": [],
   "source": [
    "import pandas as pd\n",
    "import os\n",
    "import re\n",
    "from tqdm import tqdm\n",
    "tqdm.pandas()"
   ]
  },
  {
   "cell_type": "markdown",
   "metadata": {},
   "source": [
    "## Data collection"
   ]
  },
  {
   "cell_type": "code",
   "execution_count": null,
   "metadata": {},
   "outputs": [],
   "source": [
    "df = pd.read_csv('trac2_eng_dev.csv')\n",
    "df2 = pd.read_csv('trac2_eng_train.csv')\n",
    "final = pd.concat([df,df2])\n",
    "final.to_csv('TRAC_raw.csv',index=False, encoding='utf-8-sig')"
   ]
  },
  {
   "cell_type": "markdown",
   "metadata": {},
   "source": [
    "## Data preprocess"
   ]
  },
  {
   "cell_type": "code",
   "execution_count": null,
   "metadata": {},
   "outputs": [],
   "source": [
    "df = pd.read_csv('TRAC_raw.csv')\n",
    "\n",
    "def clean_text(text):\n",
    "    text = \" \".join(filter(lambda x: x[0]!= '@' , text.split()))\n",
    "    text = re.sub('[^a-zA-Z]', ' ', text)\n",
    "    text = re.sub(r'MENTION', ' ', text)\n",
    "    text = re.sub(r'RT', ' ', text)\n",
    "    text = re.sub(r'http\\S+', '', text)\n",
    "    text = re.sub(r'(?<!\\.)\\.{3,}(?!\\.)', '', text)  \n",
    "    text = re.sub(r'[^\\w\\s]', '', text) \n",
    "    text = re.sub(r'\\b\\d+(\\.\\d+)?', '', text)  \n",
    "    text = re.sub(r'\\b\\d+(\\.\\d+)?', '', text)  \n",
    "    text = re.sub(r'\\d+', '', text)  \n",
    "    text = re.sub(r'_', '', text)\n",
    "    text = re.sub(r'[^\\x00-\\x7F]+', '', text)\n",
    "    text = re.sub(r'http', '', text)\n",
    "    text = re.sub(r'https', '', text)\n",
    "    text = re.sub(r'nt', '', text)\n",
    "    text = re.sub(r'mkr', '', text)\n",
    "    text = re.sub(r've', '', text)\n",
    "    text = re.sub(r'don', '', text)\n",
    "    text = re.sub(r'kat', '', text)\n",
    "    text = re.sub(r'kabir', '', text)\n",
    "    text = re.sub(r'singh', '', text)\n",
    "    text = re.sub(r'bhai', '', text)\n",
    "    text = re.sub(r'\\s+', ' ', text)\n",
    "    text = text.lower()\n",
    "    text = text.split()\n",
    "    text = \" \".join(text)\n",
    "\n",
    "    return text"
   ]
  },
  {
   "cell_type": "code",
   "execution_count": null,
   "metadata": {},
   "outputs": [],
   "source": [
    "df['prepro'] = df['Text'].progress_apply(clean_text)\n",
    "df['prepro'] = df['prepro'].apply(lambda x: str(x) if pd.notnull(x) else '')\n",
    "df = df[df['prepro'].apply(lambda x: len(x.split()) > 3)]\n",
    "df['encoding'] = df['Sub-task A'].apply(lambda x: 2 if x == 'OAG' else (1 if x == 'CAG' else (0 if x == 'NAG' else -1)))\n",
    "df = df.drop(columns=['ID', 'Text', 'Sub-task A', 'Sub-task B'])\n",
    "\n",
    "df.to_csv('TRAC_input.csv', index=False, encoding='utf-8-sig')"
   ]
  }
 ],
 "metadata": {
  "kernelspec": {
   "display_name": "base",
   "language": "python",
   "name": "python3"
  },
  "language_info": {
   "name": "python",
   "version": "3.11.5"
  }
 },
 "nbformat": 4,
 "nbformat_minor": 2
}
